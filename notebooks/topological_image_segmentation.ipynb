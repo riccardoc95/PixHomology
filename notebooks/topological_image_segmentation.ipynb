{
 "cells": [
  {
   "cell_type": "markdown",
   "metadata": {},
   "source": [
    "# Installation\n",
    "\n",
    "This section installs the necessary dependencies for the experiment. The package `pixhomology` is used for computing topological features, which are essential for analyzing the structure of histopathological images."
   ]
  },
  {
   "cell_type": "code",
   "execution_count": 1,
   "metadata": {
    "colab": {
     "base_uri": "https://localhost:8080/"
    },
    "id": "OM11k0Fe7fwQ",
    "outputId": "8719c1a1-a1e0-4b2b-fad9-002f69860fe7"
   },
   "outputs": [
    {
     "name": "stdout",
     "output_type": "stream",
     "text": [
      "Requirement already satisfied: pixhomology in /Users/riccardo/Sviluppo/miniconda3/envs/diffusion/lib/python3.11/site-packages (0.1.1)\n"
     ]
    }
   ],
   "source": [
    "!pip install pixhomology"
   ]
  },
  {
   "cell_type": "markdown",
   "metadata": {},
   "source": [
    "# Data Download\n",
    "\n",
    "The dataset used in this experiment consists of histopathological images from colorectal cancer tissue samples. The dataset is downloaded from Zenodo and extracted for further processing."
   ]
  },
  {
   "cell_type": "code",
   "execution_count": null,
   "metadata": {
    "colab": {
     "base_uri": "https://localhost:8080/"
    },
    "id": "2qCsb_e9f2wO",
    "outputId": "09879d61-1847-41c4-a886-36b779350c82"
   },
   "outputs": [],
   "source": [
    "!wget https://zenodo.org/records/53169/files/Kather_texture_2016_larger_images_10.zip\n",
    "!unzip /content/Kather_texture_2016_larger_images_10.zip"
   ]
  },
  {
   "cell_type": "markdown",
   "metadata": {},
   "source": [
    "# Import Libraries\n",
    "\n",
    "We import essential libraries required for image processing, topological feature extraction, and visualization. These include NumPy for numerical operations, PIL for handling image formats, `pixhomology` for persistent homology computations, and Matplotlib/Seaborn for visualization."
   ]
  },
  {
   "cell_type": "code",
   "execution_count": null,
   "metadata": {
    "id": "2SiRv1GEg3QK"
   },
   "outputs": [],
   "source": [
    "import numpy as np\n",
    "from PIL import Image\n",
    "import pixhomology as px\n",
    "import matplotlib.pyplot as plt\n",
    "\n",
    "from scipy import ndimage\n",
    "from skimage.color import label2rgb\n",
    "import seaborn as sns\n",
    "\n",
    "from tqdm import tqdm\n",
    "import os"
   ]
  },
  {
   "cell_type": "markdown",
   "metadata": {},
   "source": [
    "# Load and Preprocess Image\n",
    "\n",
    "In this step, we load a TIFF histopathology image and convert it into a grayscale representation."
   ]
  },
  {
   "cell_type": "code",
   "execution_count": null,
   "metadata": {
    "id": "H0kjs1bO8OBX"
   },
   "outputs": [],
   "source": [
    "# Open the TIFF file\n",
    "image = Image.open('Kather_texture_2016_larger_images_10/CRC-Prim-HE-01_APPLICATION.tif')\n",
    "\n",
    "# Convert to a NumPy array\n",
    "image = np.array(image)#[:500,:500]\n",
    "\n",
    "# RGB to Grayscale\n",
    "def rgb2gray(rgb):\n",
    "\n",
    "    r, g, b = rgb[:,:,0], rgb[:,:,1], rgb[:,:,2]\n",
    "    gray = 0.2989 * r + 0.5870 * g + 0.1140 * b\n",
    "\n",
    "    return gray\n",
    "image = rgb2gray(image)\n",
    "\n",
    "# Plot image\n",
    "plt.imshow(image)\n",
    "plt.show()"
   ]
  },
  {
   "cell_type": "markdown",
   "metadata": {},
   "source": [
    "# Topological Image Segmentation\n",
    "\n",
    "The segmentation method is based on topological data analysis, leveraging persistent homology to extract meaningful structures from an image. The process consists of multiple steps, including preprocessing, feature extraction, filtration, and final segmentation.\n",
    "\n",
    "First, the input grayscale image is smoothed using a Gaussian filter with standard deviation $\\sigma$ to reduce noise and enhance robustness:\n",
    "\n",
    "\\begin{equation}\n",
    "I' = G_{\\sigma} * I\n",
    "\\end{equation}\n",
    "\n",
    "where $I$ is the original image, $G_{\\sigma}$ is the Gaussian kernel, and $I'$ is the filtered image.\n",
    "\n",
    "Next, persistent homology is applied to extract topological features. Using the \\texttt{PixHomology} library, a persistence diagram $\\mathcal{D}$ is computed, which captures the birth and death values of connected components and loops at different intensity thresholds:\n",
    "\n",
    "\\begin{equation}\n",
    "\\mathcal{D}, \\mathcal{I} = \\texttt{computePH}(I', \\texttt{return\\_index=True})\n",
    "\\end{equation}\n",
    "\n",
    "where $\\mathcal{D}$ contains the persistence pairs $(b, d)$, and $\\mathcal{I}$ stores the spatial indices of these features.\n",
    "\n",
    "To remove background noise, a filtration step is applied. The mean birth intensity of all detected features is computed as:\n",
    "\n",
    "\\begin{equation}\n",
    "b_{\\text{avg}} = \\frac{1}{|\\mathcal{D}|} \\sum_{(b, d) \\in \\mathcal{D}} b\n",
    "\\end{equation}\n",
    "\n",
    "Only features with $b > b_{\\text{avg}}$ are retained, while weaker structures are suppressed by setting their birth values to $b_{\\text{avg}}$. The lifetime of each feature, defined as $\\ell = b - d$, is then used to filter out short-lived components. Features with $\\ell$ greater than the mean lifetime are selected for segmentation.\n",
    "\n",
    "For each selected feature, a region-growing segmentation is applied. A bounding box centered around the birth coordinate $(x_b, y_b)$ is extracted, and a binary mask is created to highlight pixels within the intensity range $[d, b]$. Connected component labeling is then used to assign distinct labels to segmented regions. The segmentation mask $S(x, y)$ is computed as:\n",
    "\n",
    "\\begin{equation}\n",
    "S(x, y) = \n",
    "\\begin{cases} \n",
    "    n+1, & \\text{if } d \\leq I(x, y) \\leq b \\text{ and part of the same component} \\\\\n",
    "    0, & \\text{otherwise}\n",
    "\\end{cases}\n",
    "\\end{equation}\n",
    "\n",
    "where $n$ represents the region index.\n",
    "\n",
    "The final segmentation output assigns a unique label to each detected structure, allowing for the identification of topologically significant regions within the image.\n"
   ]
  },
  {
   "cell_type": "code",
   "execution_count": null,
   "metadata": {
    "colab": {
     "base_uri": "https://localhost:8080/",
     "height": 435
    },
    "id": "RBaVlTtshZcE",
    "outputId": "93c40beb-1352-4ca4-f5a9-0a6a551ab11d"
   },
   "outputs": [],
   "source": [
    "def topological_image_segmentation(image, sigma=2):\n",
    "    # Gaussian filter\n",
    "    image = ndimage.gaussian_filter(image, sigma=sigma)\n",
    "\n",
    "    # PixHomology\n",
    "    dgm, idxs = px.computePH(image, return_index=True)\n",
    "\n",
    "    # Filtration\n",
    "    background_level = dgm[:, 0].mean()\n",
    "    filtered_dgm = dgm[dgm[:, 0] > background_level]\n",
    "    filtered_idx = idxs[dgm[:, 0] > background_level]\n",
    "    filtered_dgm[filtered_dgm < background_level] = background_level\n",
    "\n",
    "    lifetime = filtered_dgm[:, 0] - filtered_dgm[:, 1]\n",
    "    idx = np.where(lifetime > lifetime.mean())[0]\n",
    "    idx = sorted(idx, key=lambda x: lifetime[x], reverse=True)\n",
    "\n",
    "    # Segmentation\n",
    "    height, width = image.shape\n",
    "\n",
    "    segmentation = np.zeros_like(image)\n",
    "    for n, i in enumerate(tqdm(idx)):\n",
    "        b, d = filtered_dgm[i]\n",
    "        yb, xb, yd, xd = filtered_idx[i]\n",
    "        dim = np.max([np.abs(xb - xd), np.abs(yb - yd)])\n",
    "        y_start = np.clip(yb - dim, 0, height)\n",
    "        y_end = np.clip(yb + dim, 0, height)\n",
    "        x_start = np.clip(xb - dim, 0, width)\n",
    "        x_end = np.clip(xb + dim, 0, width)\n",
    "\n",
    "        new_xb = xb - x_start\n",
    "        new_yb = yb - y_start\n",
    "\n",
    "        mask = (image[x_start:x_end, y_start:y_end] > d) * (image[x_start:x_end, y_start:y_end] <= b)\n",
    "\n",
    "        label_mask, num_labels = ndimage.label(mask)\n",
    "        obj = label_mask == label_mask[new_xb, new_yb]\n",
    "        segmentation[x_start:x_end, y_start:y_end] += obj * (1 + n)\n",
    "    return segmentation\n",
    "\n",
    "segmentation = topological_image_segmentation(image)"
   ]
  },
  {
   "cell_type": "markdown",
   "metadata": {},
   "source": [
    "# Visualization\n",
    "\n",
    "The extracted topological features are visualized to interpret the structure and complexity of tissue samples. Color maps and persistence diagrams are used to highlight significant patterns, aiding in the differentiation between healthy and cancerous regions."
   ]
  },
  {
   "cell_type": "code",
   "execution_count": null,
   "metadata": {
    "colab": {
     "base_uri": "https://localhost:8080/",
     "height": 524
    },
    "id": "FFmRxuh_iMpG",
    "outputId": "6f3ed14a-a6a4-4490-859e-5de27bb9e017"
   },
   "outputs": [],
   "source": [
    "# Colors\n",
    "num_classes = np.max(segmentation) + 1\n",
    "pastel_colors = sns.color_palette(\"pastel\", num_classes.astype(int))\n",
    "pastel_colors = np.array(pastel_colors)\n",
    "\n",
    "# Convert the segmentation map to an RGB image\n",
    "colored_segmentation = label2rgb(segmentation, bg_label=0, colors=pastel_colors)\n",
    "\n",
    "# Plot the colored segmentation\n",
    "f, arr = plt.subplots(1, 2, figsize=(20, 10))\n",
    "arr[0].imshow(image)\n",
    "arr[1].imshow(colored_segmentation)\n",
    "plt.axis('off')\n",
    "plt.show()"
   ]
  },
  {
   "cell_type": "code",
   "execution_count": null,
   "metadata": {
    "colab": {
     "base_uri": "https://localhost:8080/",
     "height": 526
    },
    "id": "67JwXg0iiMhF",
    "outputId": "68a7b9c1-7717-4d04-92fe-87c3a28ac758"
   },
   "outputs": [],
   "source": [
    "# Zoommed Plot the colored segmentation\n",
    "f, arr = plt.subplots(1, 2, figsize=(20, 10))\n",
    "arr[0].imshow(image[:256,:256])\n",
    "arr[1].imshow(colored_segmentation[:256,:256])\n",
    "plt.axis('off')\n",
    "plt.show()"
   ]
  },
  {
   "cell_type": "code",
   "execution_count": null,
   "metadata": {
    "id": "DEuDYiSnkHk7"
   },
   "outputs": [],
   "source": []
  },
  {
   "cell_type": "code",
   "execution_count": null,
   "metadata": {
    "id": "fmFXpAAKiMes"
   },
   "outputs": [],
   "source": []
  }
 ],
 "metadata": {
  "colab": {
   "provenance": []
  },
  "kernelspec": {
   "display_name": "Python 3 (ipykernel)",
   "language": "python",
   "name": "python3"
  },
  "language_info": {
   "codemirror_mode": {
    "name": "ipython",
    "version": 3
   },
   "file_extension": ".py",
   "mimetype": "text/x-python",
   "name": "python",
   "nbconvert_exporter": "python",
   "pygments_lexer": "ipython3",
   "version": "3.11.11"
  }
 },
 "nbformat": 4,
 "nbformat_minor": 4
}
